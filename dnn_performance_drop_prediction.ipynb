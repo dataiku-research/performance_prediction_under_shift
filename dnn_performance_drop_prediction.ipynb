{
 "cells": [
  {
   "cell_type": "markdown",
   "metadata": {},
   "source": [
    "# DNN Performance Drop Prediction"
   ]
  },
  {
   "cell_type": "markdown",
   "metadata": {},
   "source": [
    "**TL;DR** Deep models bring slightly better performances than a simple model based on drift-measures in the task of predicting a ML model performance drop on datasets under shift. Still the error is high, even on shifts already observed in the training set. Can we do better?"
   ]
  },
  {
   "cell_type": "markdown",
   "metadata": {},
   "source": [
    "**Purpose** Train a DNN-based meta-model to predict a primary model accuracy drop (on various shifted datasets) and beat the baseline."
   ]
  },
  {
   "cell_type": "markdown",
   "metadata": {},
   "source": [
    "**Primary Task** RandomForestClassifier to predict low/high sales of video games records. Accuracy on clean validation set 0.798."
   ]
  },
  {
   "cell_type": "markdown",
   "metadata": {},
   "source": [
    "**Data for the Performance Drop Regressor**\n",
    "- training: 500 datasets (X), their accuracy drop (y), their meta-features (M)\n",
    "- validation: take a random split of the previous, if needed.\n",
    "- test data:\n",
    "   1. test: 500 datasets (X) with same shifts as in the training, but different severity (and their M and y).\n",
    "   2. test_unseen: 900 datasets (X) with other types of shifts, not seen at training time (and their M and y).\n",
    "   3. test_natural: 10 datasets (X) coming from different domains, but same primary task (and their M and y).\n",
    "   \n",
    "Each dataset has 475 rows and 9 features (preprocessed already).\n",
    "\n",
    "Each meta-feature vector contains 114 features (will be preprocessed in this notebook to 110 final features)."
   ]
  },
  {
   "cell_type": "markdown",
   "metadata": {},
   "source": [
    "**Baseline**\n",
    "\n",
    "Baseline-Meta-Features: RandomForestRegressor trained on meta features only (prediction_percentiles, PAD, RCA, confidence drop, BBSDs KS and BBSDh \\Chi2 statistics, KS statistics on individual preprocessed features."
   ]
  },
  {
   "cell_type": "markdown",
   "metadata": {
    "heading_collapsed": true
   },
   "source": [
    "### Imports and helpers"
   ]
  },
  {
   "cell_type": "code",
   "execution_count": 1,
   "metadata": {
    "hidden": true
   },
   "outputs": [
    {
     "name": "stdout",
     "output_type": "stream",
     "text": [
      "WARNING:tensorflow:From /Users/smaggio/workspace/dnn_performance_drop_prediction_under_drift/env_dnn_performance_drop_prediction/lib/python3.7/site-packages/tensorflow/python/compat/v2_compat.py:101: disable_resource_variables (from tensorflow.python.ops.variable_scope) is deprecated and will be removed in a future version.\n",
      "Instructions for updating:\n",
      "non-resource variables are not supported in the long term\n"
     ]
    }
   ],
   "source": [
    "import tensorflow.compat.v1 as tf\n",
    "tf.disable_v2_behavior() \n",
    "tf.experimental.output_all_intermediates(True)\n",
    "\n",
    "import pickle\n",
    "import numpy as np\n",
    "import os\n",
    "from sklearn.preprocessing import MinMaxScaler\n",
    "from sklearn.model_selection import train_test_split\n",
    "from sklearn.metrics import mean_absolute_error\n",
    "from sklearn.pipeline import Pipeline\n",
    "from sklearn.ensemble import RandomForestRegressor\n",
    "from sklearn.impute import SimpleImputer\n",
    "from sklearn.metrics import mean_absolute_error\n",
    "from tensorflow.keras.callbacks import ModelCheckpoint, EarlyStopping\n",
    "from tensorflow.keras.layers import Input, LSTM, Dropout, Dense, Bidirectional, BatchNormalization\n",
    "from tensorflow.keras.layers import GlobalAveragePooling1D, Layer, Concatenate\n",
    "from tensorflow.keras.models import load_model\n",
    "from tensorflow.keras.models import Model as KerasModel\n",
    "from tensorflow.random import set_seed as set_random_seed\n",
    "from tensorflow.keras.optimizers import Adam\n",
    "from matplotlib import pyplot as plt\n",
    "import matplotlib.patches as mpatches"
   ]
  },
  {
   "cell_type": "code",
   "execution_count": 2,
   "metadata": {},
   "outputs": [],
   "source": [
    "def compute_and_print_errors(list_names, list_y, list_y_pred):\n",
    "    print(\"Mean Absolute Error:\")\n",
    "    for y, y_pred, name in zip(list_y, list_y_pred, list_names):\n",
    "        s = \"%s: %.4f\" % (name, mean_absolute_error(y, y_pred))\n",
    "        print(f'{s:>30}')\n",
    "        "
   ]
  },
  {
   "cell_type": "code",
   "execution_count": 3,
   "metadata": {},
   "outputs": [],
   "source": [
    "def plot_train_val_losses(history):\n",
    "    f = plt.figure(figsize=(8, 8))\n",
    "    plt.xlabel(\"Epochs\")\n",
    "    plt.ylabel(\"Error\")\n",
    "\n",
    "    plt.plot(history.history['mean_absolute_error'], label=\"Training Drop Error\")\n",
    "    plt.plot(history.history['val_mean_absolute_error'], label=\"Validation Drop Error\")\n",
    "    plt.legend()"
   ]
  },
  {
   "cell_type": "code",
   "execution_count": 4,
   "metadata": {},
   "outputs": [],
   "source": [
    "def plot_mae_all_models(list_names, list_y, all_pred, model_names):\n",
    "    \n",
    "    f = plt.figure(figsize=(8, 8));\n",
    "\n",
    "    colors = ['lightblue', 'gold', 'lightgreen']\n",
    "    all_labels = [[\"\", \"\", \"\", \"\"], list_names, [\"\", \"\", \"\", \"\"]]\n",
    "    all_positions = [[1, 4, 7, 10], [2, 5, 8, 11], [3, 6, 9, 12]]\n",
    "    \n",
    "    for list_y_pred, lab, pos, c in zip(all_pred, all_labels, all_positions, colors):\n",
    "\n",
    "        plt.boxplot([np.abs(y - y_pred.flatten()) for y, y_pred in zip(list_y, list_y_pred)], \n",
    "                    labels = lab, positions = pos, patch_artist=True, boxprops=dict(facecolor=c, color=c));\n",
    "\n",
    "    plt.legend(handles=[mpatches.Patch(color=c, label=l) for c,l in zip(colors, model_names)]);"
   ]
  },
  {
   "cell_type": "markdown",
   "metadata": {},
   "source": [
    "### Loading Data and some simple preprocessing"
   ]
  },
  {
   "cell_type": "code",
   "execution_count": 5,
   "metadata": {},
   "outputs": [],
   "source": [
    "fld = 'data'\n",
    "with open(os.path.join(fld, 'data.pkl'), 'rb') as f:\n",
    "    out = pickle.load(f)"
   ]
  },
  {
   "cell_type": "code",
   "execution_count": 6,
   "metadata": {},
   "outputs": [],
   "source": [
    "train, test, test_unseen, test_natural, ref_task, result_df = out"
   ]
  },
  {
   "cell_type": "code",
   "execution_count": 7,
   "metadata": {},
   "outputs": [],
   "source": [
    "X_train = train.datasets\n",
    "y_train = train.drops\n",
    "train_meta_features_orig = train.meta_features\n",
    "\n",
    "X_test = test.datasets\n",
    "y_test = test.drops\n",
    "test_meta_features_orig = test.meta_features\n",
    "\n",
    "X_test_unseen = test_unseen.datasets\n",
    "y_test_unseen = test_unseen.drops\n",
    "test_unseen_meta_features_orig = test_unseen.meta_features\n",
    "\n",
    "X_test_natural = test_natural.datasets\n",
    "y_test_natural = test_natural.drops\n",
    "test_natural_meta_features_orig = test_natural.meta_features\n",
    "\n",
    "list_names = ['train', 'test', 'unseen synthetic shift', 'natural shift']\n",
    "list_y = [y_train, y_test, y_test_unseen, y_test_natural]"
   ]
  },
  {
   "cell_type": "code",
   "execution_count": 8,
   "metadata": {},
   "outputs": [],
   "source": [
    "imp = Pipeline([('imputer', SimpleImputer(missing_values=np.nan, strategy='mean')),\n",
    "                    ('scaler', MinMaxScaler())])\n",
    "\n",
    "M_train = imp.fit_transform(train_meta_features_orig)\n",
    "M_test = imp.transform(test_meta_features_orig)\n",
    "M_test_unseen = imp.transform(test_unseen_meta_features_orig)\n",
    "M_test_natural = imp.transform(test_natural_meta_features_orig)"
   ]
  },
  {
   "cell_type": "markdown",
   "metadata": {},
   "source": [
    "Here is the reference task"
   ]
  },
  {
   "cell_type": "code",
   "execution_count": 9,
   "metadata": {},
   "outputs": [],
   "source": [
    "model = ref_task.model"
   ]
  },
  {
   "cell_type": "code",
   "execution_count": 10,
   "metadata": {},
   "outputs": [
    {
     "data": {
      "text/plain": [
       "0.7978947368421052"
      ]
     },
     "execution_count": 10,
     "metadata": {},
     "output_type": "execute_result"
    }
   ],
   "source": [
    "# source validation dataset\n",
    "X_src = ref_task.X_orig\n",
    "y_src = ref_task.y\n",
    "\n",
    "# reference accuracy\n",
    "model.score(ref_task.preprocess.transform(X_src), y_src)"
   ]
  },
  {
   "cell_type": "markdown",
   "metadata": {},
   "source": [
    "You can extract primary predictions for all datasets, and possibly use them as additional features."
   ]
  },
  {
   "cell_type": "code",
   "execution_count": 11,
   "metadata": {},
   "outputs": [],
   "source": [
    "X_train_pred = np.array([model.predict_proba(X) for X in X_train])\n",
    "X_test_pred = np.array([model.predict_proba(X) for X in X_test])\n",
    "X_test_unseen_pred = np.array([model.predict_proba(X) for X in X_test_unseen])\n",
    "X_test_natural_pred = np.array([model.predict_proba(X) for X in X_test_natural])"
   ]
  },
  {
   "cell_type": "markdown",
   "metadata": {},
   "source": [
    "### Baseline: Random Forest Regresson on Meta-Features"
   ]
  },
  {
   "cell_type": "code",
   "execution_count": 12,
   "metadata": {},
   "outputs": [
    {
     "name": "stdout",
     "output_type": "stream",
     "text": [
      "Mean Absolute Error:\n",
      "                 train: 0.0152\n",
      "                  test: 0.0427\n",
      "unseen synthetic shift: 0.0594\n",
      "         natural shift: 0.0633\n"
     ]
    }
   ],
   "source": [
    "# Train Drift Features Baseline Performance Drop Predictor\n",
    "\n",
    "regr = RandomForestRegressor().fit(M_train, y_train)\n",
    "\n",
    "# Evaluate Drift Features Baseline and save results\n",
    "\n",
    "y_train_pred = regr.predict(M_train)\n",
    "y_test_pred = regr.predict(M_test)\n",
    "y_test_unseen_pred = regr.predict(M_test_unseen)\n",
    "y_test_natural_pred = regr.predict(M_test_natural)\n",
    "\n",
    "list_y_pred = [y_train_pred, y_test_pred, y_test_unseen_pred, y_test_natural_pred]\n",
    "compute_and_print_errors(list_names, list_y, list_y_pred)"
   ]
  },
  {
   "cell_type": "markdown",
   "metadata": {},
   "source": [
    "## Training DNNs"
   ]
  },
  {
   "cell_type": "markdown",
   "metadata": {},
   "source": [
    "DNN based on MLP or LSTM to represent a dataset and predict performance drop, using only the dataset features and possible predictions.\n",
    "\n",
    "Meta-features not included."
   ]
  },
  {
   "cell_type": "code",
   "execution_count": 13,
   "metadata": {},
   "outputs": [],
   "source": [
    "# common variables\n",
    "\n",
    "random_state = 42\n",
    "\n",
    "epochs = 100\n",
    "batch_size = 400\n",
    "validation_split = 0.2\n",
    "verbose = False\n",
    "early_stop_patience = 50\n",
    "lr = 0.001\n",
    "\n",
    "n_samples_per_dataset = X_train.shape[1]\n",
    "n_features=X_train.shape[2]\n"
   ]
  },
  {
   "cell_type": "markdown",
   "metadata": {},
   "source": [
    "### MLP"
   ]
  },
  {
   "cell_type": "code",
   "execution_count": 14,
   "metadata": {},
   "outputs": [
    {
     "name": "stdout",
     "output_type": "stream",
     "text": [
      "WARNING:tensorflow:From /Users/smaggio/workspace/dnn_performance_drop_prediction_under_drift/env_dnn_performance_drop_prediction/lib/python3.7/site-packages/keras/initializers/initializers_v1.py:55: calling RandomNormal.__init__ (from tensorflow.python.ops.init_ops) with dtype is deprecated and will be removed in a future version.\n",
      "Instructions for updating:\n",
      "Call initializer instance with the dtype argument instead of passing it to the constructor\n"
     ]
    }
   ],
   "source": [
    "# Define MLP-based DNN Performance Drop Predictor\n",
    "\n",
    "encoded_ds_size=10\n",
    "hidden_size=5\n",
    "\n",
    "input_numeric = Input(shape=(n_samples_per_dataset, n_features), name='dataset')\n",
    "\n",
    "encoded_data = Dense(units=encoded_ds_size, kernel_initializer='normal', \n",
    "                     activation='relu', name='ds_dense')(input_numeric)\n",
    "encoded_data = GlobalAveragePooling1D()(encoded_data)\n",
    "encoded_data = Dense(hidden_size, kernel_initializer='normal', \n",
    "                     activation='relu', name='ds_avg_dense')(encoded_data)\n",
    "\n",
    "encoded_data = Dropout(0.2, name='perf_drop_dropout')(encoded_data)\n",
    "performance_drop = Dense(1, kernel_initializer='normal', name='perf_drop')(encoded_data)\n",
    "\n",
    "drop_predictor = KerasModel(inputs=input_numeric, outputs=performance_drop)"
   ]
  },
  {
   "cell_type": "code",
   "execution_count": 15,
   "metadata": {},
   "outputs": [
    {
     "name": "stderr",
     "output_type": "stream",
     "text": [
      "2021-10-21 11:12:35.607870: I tensorflow/core/platform/cpu_feature_guard.cc:142] This TensorFlow binary is optimized with oneAPI Deep Neural Network Library (oneDNN) to use the following CPU instructions in performance-critical operations:  AVX2 FMA\n",
      "To enable them in other operations, rebuild TensorFlow with the appropriate compiler flags.\n",
      "/Users/smaggio/workspace/dnn_performance_drop_prediction_under_drift/env_dnn_performance_drop_prediction/lib/python3.7/site-packages/keras/engine/training.py:2470: UserWarning: `Model.state_updates` will be removed in a future version. This property should not be used in TensorFlow 2.0, as `updates` are applied automatically.\n",
      "  warnings.warn('`Model.state_updates` will be removed in a future version. '\n"
     ]
    },
    {
     "name": "stdout",
     "output_type": "stream",
     "text": [
      "WARNING:tensorflow:From /Users/smaggio/workspace/dnn_performance_drop_prediction_under_drift/env_dnn_performance_drop_prediction/lib/python3.7/site-packages/tensorflow/python/ops/init_ops.py:97: calling Zeros.__init__ (from tensorflow.python.ops.init_ops) with dtype is deprecated and will be removed in a future version.\n",
      "Instructions for updating:\n",
      "Call initializer instance with the dtype argument instead of passing it to the constructor\n"
     ]
    }
   ],
   "source": [
    "# Train MLP-based DNN Performance Drop Predictor\n",
    "    \n",
    "np.random.seed(random_state)\n",
    "set_random_seed(random_state)\n",
    "\n",
    "if os.path.exists('./mdc_net.h5'):\n",
    "    os.remove('./mdc_net.h5')\n",
    "\n",
    "drop_predictor.compile(loss='mean_absolute_error',\n",
    "              optimizer=Adam(lr),\n",
    "              metrics=['mean_absolute_error'])\n",
    "\n",
    "callbacks = [ModelCheckpoint(filepath='./mdc_net.h5', monitor='val_loss', \n",
    "                             verbose=verbose, save_best_only=True, mode='min'),\n",
    "             EarlyStopping(monitor='val_loss', mode='min', verbose=verbose, patience=early_stop_patience)]\n",
    "\n",
    "history = drop_predictor.fit(\n",
    "    X_train, \n",
    "    y_train,\n",
    "    epochs=epochs,\n",
    "    batch_size=batch_size,\n",
    "    validation_split=validation_split,\n",
    "    callbacks=callbacks,\n",
    "    verbose=verbose\n",
    ")\n",
    "\n",
    "drop_predictor = load_model('./mdc_net.h5')"
   ]
  },
  {
   "cell_type": "code",
   "execution_count": 16,
   "metadata": {},
   "outputs": [
    {
     "name": "stdout",
     "output_type": "stream",
     "text": [
      "Model: \"model\"\n",
      "_________________________________________________________________\n",
      "Layer (type)                 Output Shape              Param #   \n",
      "=================================================================\n",
      "dataset (InputLayer)         [(None, 475, 9)]          0         \n",
      "_________________________________________________________________\n",
      "ds_dense (Dense)             (None, 475, 10)           100       \n",
      "_________________________________________________________________\n",
      "global_average_pooling1d (Gl (None, 10)                0         \n",
      "_________________________________________________________________\n",
      "ds_avg_dense (Dense)         (None, 5)                 55        \n",
      "_________________________________________________________________\n",
      "perf_drop_dropout (Dropout)  (None, 5)                 0         \n",
      "_________________________________________________________________\n",
      "perf_drop (Dense)            (None, 1)                 6         \n",
      "=================================================================\n",
      "Total params: 161\n",
      "Trainable params: 161\n",
      "Non-trainable params: 0\n",
      "_________________________________________________________________\n"
     ]
    }
   ],
   "source": [
    "drop_predictor.summary()"
   ]
  },
  {
   "cell_type": "code",
   "execution_count": 17,
   "metadata": {},
   "outputs": [
    {
     "data": {
      "image/png": "[encoded data removed]",
      "text/plain": [
       "<Figure size 576x576 with 1 Axes>"
      ]
     },
     "metadata": {
      "needs_background": "light"
     },
     "output_type": "display_data"
    }
   ],
   "source": [
    "plot_train_val_losses(history)"
   ]
  },
  {
   "cell_type": "code",
   "execution_count": 18,
   "metadata": {},
   "outputs": [
    {
     "name": "stdout",
     "output_type": "stream",
     "text": [
      "Mean Absolute Error:\n",
      "                 train: 0.0361\n",
      "                  test: 0.0233\n",
      "unseen synthetic shift: 0.0480\n",
      "         natural shift: 0.0542\n"
     ]
    }
   ],
   "source": [
    "# Evaluate MLP-based DNN and save results\n",
    "\n",
    "y_train_pred = drop_predictor.predict(X_train)\n",
    "y_test_pred = drop_predictor.predict(X_test)\n",
    "y_test_unseen_pred = drop_predictor.predict(X_test_unseen)\n",
    "y_test_natural_pred = drop_predictor.predict(X_test_natural)\n",
    "\n",
    "list_y_pred_mlp = [y_train_pred, y_test_pred, y_test_unseen_pred, y_test_natural_pred]\n",
    "compute_and_print_errors(list_names, list_y, list_y_pred_mlp)"
   ]
  },
  {
   "cell_type": "markdown",
   "metadata": {},
   "source": [
    "### LSTM"
   ]
  },
  {
   "cell_type": "code",
   "execution_count": 19,
   "metadata": {},
   "outputs": [
    {
     "name": "stdout",
     "output_type": "stream",
     "text": [
      "WARNING:tensorflow:From /Users/smaggio/workspace/dnn_performance_drop_prediction_under_drift/env_dnn_performance_drop_prediction/lib/python3.7/site-packages/tensorflow/python/ops/init_ops.py:97: calling GlorotUniform.__init__ (from tensorflow.python.ops.init_ops) with dtype is deprecated and will be removed in a future version.\n",
      "Instructions for updating:\n",
      "Call initializer instance with the dtype argument instead of passing it to the constructor\n",
      "WARNING:tensorflow:From /Users/smaggio/workspace/dnn_performance_drop_prediction_under_drift/env_dnn_performance_drop_prediction/lib/python3.7/site-packages/tensorflow/python/ops/init_ops.py:97: calling Orthogonal.__init__ (from tensorflow.python.ops.init_ops) with dtype is deprecated and will be removed in a future version.\n",
      "Instructions for updating:\n",
      "Call initializer instance with the dtype argument instead of passing it to the constructor\n"
     ]
    }
   ],
   "source": [
    "# Define LSTM-based DNN Performance Drop Predictor\n",
    "\n",
    "encoded_ds_size=10\n",
    "\n",
    "input_shape = (n_samples_per_dataset, n_features)\n",
    "input_numeric = Input(shape=input_shape, name='dataset')\n",
    "\n",
    "encoded_data = Bidirectional(LSTM(units=encoded_ds_size, return_sequences=False,\n",
    "                             input_shape=input_shape), name='encoded_dataset')(input_numeric)\n",
    "\n",
    "encoded_data = Dropout(0.2, name='perf_drop_dropout')(encoded_data)\n",
    "performance_drop = Dense(1, kernel_initializer='normal', name='perf_drop')(encoded_data)\n",
    "\n",
    "drop_predictor = KerasModel(inputs=input_numeric, outputs=performance_drop)"
   ]
  },
  {
   "cell_type": "code",
   "execution_count": 20,
   "metadata": {},
   "outputs": [
    {
     "name": "stderr",
     "output_type": "stream",
     "text": [
      "/Users/smaggio/workspace/dnn_performance_drop_prediction_under_drift/env_dnn_performance_drop_prediction/lib/python3.7/site-packages/keras/engine/training.py:2470: UserWarning: `Model.state_updates` will be removed in a future version. This property should not be used in TensorFlow 2.0, as `updates` are applied automatically.\n",
      "  warnings.warn('`Model.state_updates` will be removed in a future version. '\n"
     ]
    }
   ],
   "source": [
    "# Train LSTM-based DNN Performance Drop Predictor\n",
    "    \n",
    "np.random.seed(random_state)\n",
    "set_random_seed(random_state)\n",
    "\n",
    "if os.path.exists('./mdc_net.h5'):\n",
    "    os.remove('./mdc_net.h5')\n",
    "        \n",
    "drop_predictor.compile(loss='mean_absolute_error',\n",
    "              optimizer=Adam(lr),\n",
    "              metrics=['mean_absolute_error'])\n",
    "\n",
    "callbacks = [ModelCheckpoint(filepath='./mdc_net.h5', monitor='val_loss', \n",
    "                             verbose=verbose, save_best_only=True, mode='min'),\n",
    "             EarlyStopping(monitor='val_loss', mode='min', verbose=verbose, patience=early_stop_patience)]\n",
    "\n",
    "history = drop_predictor.fit(\n",
    "    X_train, \n",
    "    y_train,\n",
    "    epochs=epochs,\n",
    "    batch_size=batch_size,\n",
    "    validation_split=validation_split,\n",
    "    callbacks=callbacks,\n",
    "    verbose=verbose\n",
    ")\n",
    "\n",
    "drop_predictor = load_model('./mdc_net.h5')"
   ]
  },
  {
   "cell_type": "code",
   "execution_count": 21,
   "metadata": {},
   "outputs": [
    {
     "name": "stdout",
     "output_type": "stream",
     "text": [
      "Model: \"model_1\"\n",
      "_________________________________________________________________\n",
      "Layer (type)                 Output Shape              Param #   \n",
      "=================================================================\n",
      "dataset (InputLayer)         [(None, 475, 9)]          0         \n",
      "_________________________________________________________________\n",
      "encoded_dataset (Bidirection (None, 20)                1600      \n",
      "_________________________________________________________________\n",
      "perf_drop_dropout (Dropout)  (None, 20)                0         \n",
      "_________________________________________________________________\n",
      "perf_drop (Dense)            (None, 1)                 21        \n",
      "=================================================================\n",
      "Total params: 1,621\n",
      "Trainable params: 1,621\n",
      "Non-trainable params: 0\n",
      "_________________________________________________________________\n"
     ]
    }
   ],
   "source": [
    "drop_predictor.summary()"
   ]
  },
  {
   "cell_type": "code",
   "execution_count": 22,
   "metadata": {},
   "outputs": [
    {
     "data": {
      "image/png": "[encoded data removed]",
      "text/plain": [
       "<Figure size 576x576 with 1 Axes>"
      ]
     },
     "metadata": {
      "needs_background": "light"
     },
     "output_type": "display_data"
    }
   ],
   "source": [
    "plot_train_val_losses(history)"
   ]
  },
  {
   "cell_type": "code",
   "execution_count": 23,
   "metadata": {},
   "outputs": [
    {
     "name": "stdout",
     "output_type": "stream",
     "text": [
      "Mean Absolute Error:\n",
      "                 train: 0.0325\n",
      "                  test: 0.0254\n",
      "unseen synthetic shift: 0.0521\n",
      "         natural shift: 0.0592\n"
     ]
    }
   ],
   "source": [
    "# Evaluate LSTM-based DNN and save results\n",
    "\n",
    "y_train_pred = drop_predictor.predict(X_train)\n",
    "y_test_pred = drop_predictor.predict(X_test)\n",
    "y_test_unseen_pred = drop_predictor.predict(X_test_unseen)\n",
    "y_test_natural_pred = drop_predictor.predict(X_test_natural)\n",
    "\n",
    "list_y_pred_lstm = [y_train_pred, y_test_pred, y_test_unseen_pred, y_test_natural_pred]\n",
    "compute_and_print_errors(list_names, list_y, list_y_pred_lstm)"
   ]
  },
  {
   "cell_type": "markdown",
   "metadata": {},
   "source": [
    "## Compare all models"
   ]
  },
  {
   "cell_type": "code",
   "execution_count": 24,
   "metadata": {},
   "outputs": [
    {
     "data": {
      "image/png": "[encoded data removed]",
      "text/plain": [
       "<Figure size 576x576 with 1 Axes>"
      ]
     },
     "metadata": {
      "needs_background": "light"
     },
     "output_type": "display_data"
    }
   ],
   "source": [
    "all_pred = [list_y_pred, list_y_pred_mlp, list_y_pred_lstm]\n",
    "model_names = ['Baseline', 'MLP', 'LSTM']\n",
    "\n",
    "plot_mae_all_models(list_names, list_y, all_pred, model_names)"
   ]
  },
  {
   "cell_type": "markdown",
   "metadata": {},
   "source": [
    "## Possible Improvements"
   ]
  },
  {
   "cell_type": "markdown",
   "metadata": {},
   "source": [
    "Also tried out (with similar results as above):\n",
    "* Custom layer to shuffle dataset rows at each training iteration\n",
    "* Tuning LR scheduling and model hidden sizes"
   ]
  }
 ],
 "metadata": {
  "createdOn": 1620650668671,
  "creator": "smaggio",
  "customFields": {},
  "hide_input": false,
  "kernelspec": {
   "display_name": "ker_dnn_performance_drop_prediction",
   "language": "python",
   "name": "ker_dnn_performance_drop_prediction"
  },
  "language_info": {
   "codemirror_mode": {
    "name": "ipython",
    "version": 3
   },
   "file_extension": ".py",
   "mimetype": "text/x-python",
   "name": "python",
   "nbconvert_exporter": "python",
   "pygments_lexer": "ipython3",
   "version": "3.7.4"
  },
  "modifiedBy": "smaggio",
  "tags": []
 },
 "nbformat": 4,
 "nbformat_minor": 2
}
